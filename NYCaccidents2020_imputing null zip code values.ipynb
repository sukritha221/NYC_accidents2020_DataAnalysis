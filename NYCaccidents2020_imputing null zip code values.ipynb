{
 "cells": [
  {
   "cell_type": "code",
   "execution_count": 1,
   "metadata": {},
   "outputs": [],
   "source": [
    "# Importing libraries required for connecting mysql\n",
    "import pandas\n",
    "import mysql.connector as sql\n",
    "\n",
    "# Importing libraries required to get location details from lat and long\n",
    "import geopy\n",
    "from geopy import geocoders\n",
    "\n",
    "# Importing the time module to measure the time elapsed in the loop\n",
    "import time"
   ]
  },
  {
   "cell_type": "code",
   "execution_count": 2,
   "metadata": {},
   "outputs": [],
   "source": [
    "# Connecting to MySQL\n",
    "\n",
    "connection = sql.connect(\n",
    "                        host=\"localhost\",\n",
    "                        user=\"root\",\n",
    "                        password=\"password\",\n",
    "                        database=\"nyc\")"
   ]
  },
  {
   "cell_type": "code",
   "execution_count": 3,
   "metadata": {},
   "outputs": [
    {
     "data": {
      "text/plain": [
       "<mysql.connector.connection.MySQLConnection at 0x20bfe92bc70>"
      ]
     },
     "execution_count": 3,
     "metadata": {},
     "output_type": "execute_result"
    }
   ],
   "source": [
    "# Checking if connection is successful\n",
    "\n",
    "connection"
   ]
  },
  {
   "cell_type": "code",
   "execution_count": 4,
   "metadata": {},
   "outputs": [],
   "source": [
    "# Creating a cursor allows python to execute SQL commands\n",
    "\n",
    "cursor = connection.cursor()"
   ]
  },
  {
   "cell_type": "code",
   "execution_count": 5,
   "metadata": {},
   "outputs": [],
   "source": [
    "# Executing MySQL statement to fetch the desired columns\n",
    "\n",
    "cursor.execute(\"SELECT latitude, longitude FROM nycaccidents2020 WHERE `ZIP CODE` IS NULL group by location order by count(location) desc;\")"
   ]
  },
  {
   "cell_type": "code",
   "execution_count": 6,
   "metadata": {},
   "outputs": [],
   "source": [
    "# cursor.fetchall() fetches all the rows of a query result as a list of tuples\n",
    "\n",
    "lat_long = cursor.fetchall()"
   ]
  },
  {
   "cell_type": "code",
   "execution_count": 21,
   "metadata": {
    "scrolled": true
   },
   "outputs": [
    {
     "data": {
      "text/plain": [
       "5814"
      ]
     },
     "execution_count": 21,
     "metadata": {},
     "output_type": "execute_result"
    }
   ],
   "source": [
    "# Checking the number of records returned\n",
    "\n",
    "len(lat_long)"
   ]
  },
  {
   "cell_type": "code",
   "execution_count": 14,
   "metadata": {},
   "outputs": [],
   "source": [
    "# Converting the tuples in the list to strings because geocode() takes string arguments\n",
    "\n",
    "lat_long1 = []\n",
    "for i in range(0, len(lat_long)):\n",
    "    lat_long1.append(str(lat_long[i]).replace('(', '').replace(')', ''))"
   ]
  },
  {
   "cell_type": "code",
   "execution_count": 10,
   "metadata": {},
   "outputs": [
    {
     "data": {
      "text/plain": [
       "'40.8047, -73.91243'"
      ]
     },
     "execution_count": 10,
     "metadata": {},
     "output_type": "execute_result"
    }
   ],
   "source": [
    "# Checking if the conversion was successful\n",
    "\n",
    "lat_long1[0]"
   ]
  },
  {
   "cell_type": "code",
   "execution_count": 11,
   "metadata": {},
   "outputs": [],
   "source": [
    "# https://towardsdatascience.com/things-to-do-with-latitude-longitude-data-using-geopy-python-1d356ed1ae30\n",
    "\n",
    "from geopy.geocoders import Nominatim\n",
    "geocoder = Nominatim(user_agent = 'your_app_name')"
   ]
  },
  {
   "cell_type": "code",
   "execution_count": 12,
   "metadata": {},
   "outputs": [],
   "source": [
    "from geopy.extra.rate_limiter import RateLimiter\n",
    "geocode = RateLimiter(geocoder.geocode, min_delay_seconds = 1,   return_value_on_exception = None) \n",
    "\n",
    "# adding 1 second padding between calls"
   ]
  },
  {
   "cell_type": "code",
   "execution_count": 38,
   "metadata": {},
   "outputs": [],
   "source": [
    "# Creating an empty list where the zip codes will be stored\n",
    "zip = []\n",
    "\n",
    "# Calculating the time elapsed in the loop\n",
    "t0= time.perf_counter()\n",
    "\n",
    "for i in range (0, 4000):\n",
    "    location = geocode(lat_long1[i])\n",
    "    zip.append(location.raw['display_name'].split(\",\")[-2].strip())\n",
    "    \n",
    "# Creating 2 for loops to avoid errors in case of network issues\n",
    "for i in range (4000, len(lat_long1)):\n",
    "    location = geocode(lat_long1[i])\n",
    "    zip.append(location.raw['display_name'].split(\",\")[-2].strip())\n",
    "    \n",
    "t1 = time.perf_counter() - t0"
   ]
  },
  {
   "cell_type": "code",
   "execution_count": 40,
   "metadata": {},
   "outputs": [
    {
     "name": "stdout",
     "output_type": "stream",
     "text": [
      "97.73968544166668 mins\n"
     ]
    }
   ],
   "source": [
    "# Time elapsed in the loop\n",
    "\n",
    "print(t1/60, \"mins\")"
   ]
  },
  {
   "cell_type": "code",
   "execution_count": 39,
   "metadata": {},
   "outputs": [
    {
     "data": {
      "text/plain": [
       "5814"
      ]
     },
     "execution_count": 39,
     "metadata": {},
     "output_type": "execute_result"
    }
   ],
   "source": [
    "# Number of records fetched\n",
    "\n",
    "len(zip)"
   ]
  },
  {
   "cell_type": "code",
   "execution_count": 120,
   "metadata": {},
   "outputs": [],
   "source": [
    "# Creating a dataframe that matches the latitude and logitude to the zip codes\n",
    "\n",
    "locations = pandas.DataFrame({'lat_long':lat_long1, 'zip code':zip})"
   ]
  },
  {
   "cell_type": "code",
   "execution_count": 121,
   "metadata": {},
   "outputs": [],
   "source": [
    "# Splitting the lat_long column to separate latitude and longitude columns\n",
    "\n",
    "locations[['latitude', 'longitude']]=locations['lat_long'].str.split(',', expand=True)"
   ]
  },
  {
   "cell_type": "code",
   "execution_count": 122,
   "metadata": {},
   "outputs": [
    {
     "data": {
      "text/html": [
       "<div>\n",
       "<style scoped>\n",
       "    .dataframe tbody tr th:only-of-type {\n",
       "        vertical-align: middle;\n",
       "    }\n",
       "\n",
       "    .dataframe tbody tr th {\n",
       "        vertical-align: top;\n",
       "    }\n",
       "\n",
       "    .dataframe thead th {\n",
       "        text-align: right;\n",
       "    }\n",
       "</style>\n",
       "<table border=\"1\" class=\"dataframe\">\n",
       "  <thead>\n",
       "    <tr style=\"text-align: right;\">\n",
       "      <th></th>\n",
       "      <th>lat_long</th>\n",
       "      <th>zip code</th>\n",
       "      <th>latitude</th>\n",
       "      <th>longitude</th>\n",
       "    </tr>\n",
       "  </thead>\n",
       "  <tbody>\n",
       "    <tr>\n",
       "      <th>0</th>\n",
       "      <td>40.8047, -73.91243</td>\n",
       "      <td>10454</td>\n",
       "      <td>40.8047</td>\n",
       "      <td>-73.91243</td>\n",
       "    </tr>\n",
       "    <tr>\n",
       "      <th>1</th>\n",
       "      <td>40.651863, -73.86536</td>\n",
       "      <td>11239-2801</td>\n",
       "      <td>40.651863</td>\n",
       "      <td>-73.86536</td>\n",
       "    </tr>\n",
       "    <tr>\n",
       "      <th>2</th>\n",
       "      <td>40.84506, -73.916855</td>\n",
       "      <td>10452</td>\n",
       "      <td>40.84506</td>\n",
       "      <td>-73.916855</td>\n",
       "    </tr>\n",
       "    <tr>\n",
       "      <th>3</th>\n",
       "      <td>40.737785, -73.93496</td>\n",
       "      <td>11101</td>\n",
       "      <td>40.737785</td>\n",
       "      <td>-73.93496</td>\n",
       "    </tr>\n",
       "    <tr>\n",
       "      <th>4</th>\n",
       "      <td>40.788795, -73.93755</td>\n",
       "      <td>10029-6408</td>\n",
       "      <td>40.788795</td>\n",
       "      <td>-73.93755</td>\n",
       "    </tr>\n",
       "    <tr>\n",
       "      <th>...</th>\n",
       "      <td>...</td>\n",
       "      <td>...</td>\n",
       "      <td>...</td>\n",
       "      <td>...</td>\n",
       "    </tr>\n",
       "    <tr>\n",
       "      <th>5809</th>\n",
       "      <td>40.609802, -74.14108</td>\n",
       "      <td>10314</td>\n",
       "      <td>40.609802</td>\n",
       "      <td>-74.14108</td>\n",
       "    </tr>\n",
       "    <tr>\n",
       "      <th>5810</th>\n",
       "      <td>40.590332, -73.9084</td>\n",
       "      <td>11697</td>\n",
       "      <td>40.590332</td>\n",
       "      <td>-73.9084</td>\n",
       "    </tr>\n",
       "    <tr>\n",
       "      <th>5811</th>\n",
       "      <td>40.762917, -73.98566</td>\n",
       "      <td>10019</td>\n",
       "      <td>40.762917</td>\n",
       "      <td>-73.98566</td>\n",
       "    </tr>\n",
       "    <tr>\n",
       "      <th>5812</th>\n",
       "      <td>40.68064, -73.89672</td>\n",
       "      <td>11207</td>\n",
       "      <td>40.68064</td>\n",
       "      <td>-73.89672</td>\n",
       "    </tr>\n",
       "    <tr>\n",
       "      <th>5813</th>\n",
       "      <td>40.713013, -73.90802</td>\n",
       "      <td>11385</td>\n",
       "      <td>40.713013</td>\n",
       "      <td>-73.90802</td>\n",
       "    </tr>\n",
       "  </tbody>\n",
       "</table>\n",
       "<p>5814 rows × 4 columns</p>\n",
       "</div>"
      ],
      "text/plain": [
       "                  lat_long    zip code   latitude    longitude\n",
       "0       40.8047, -73.91243       10454    40.8047    -73.91243\n",
       "1     40.651863, -73.86536  11239-2801  40.651863    -73.86536\n",
       "2     40.84506, -73.916855       10452   40.84506   -73.916855\n",
       "3     40.737785, -73.93496       11101  40.737785    -73.93496\n",
       "4     40.788795, -73.93755  10029-6408  40.788795    -73.93755\n",
       "...                    ...         ...        ...          ...\n",
       "5809  40.609802, -74.14108       10314  40.609802    -74.14108\n",
       "5810   40.590332, -73.9084       11697  40.590332     -73.9084\n",
       "5811  40.762917, -73.98566       10019  40.762917    -73.98566\n",
       "5812   40.68064, -73.89672       11207   40.68064    -73.89672\n",
       "5813  40.713013, -73.90802       11385  40.713013    -73.90802\n",
       "\n",
       "[5814 rows x 4 columns]"
      ]
     },
     "execution_count": 122,
     "metadata": {},
     "output_type": "execute_result"
    }
   ],
   "source": [
    "locations"
   ]
  },
  {
   "cell_type": "code",
   "execution_count": 123,
   "metadata": {},
   "outputs": [],
   "source": [
    "# Dropping unwanted column\n",
    "\n",
    "locations.drop('lat_long', axis=1, inplace=True)"
   ]
  },
  {
   "cell_type": "code",
   "execution_count": 124,
   "metadata": {},
   "outputs": [],
   "source": [
    "# Adding location column to match the table structure presnt in SQL\n",
    "\n",
    "locations.insert(1, 'location', 'POINT ('+locations['longitude'].str.strip()+ ' ' +locations['latitude']+ ')')"
   ]
  },
  {
   "cell_type": "code",
   "execution_count": 125,
   "metadata": {},
   "outputs": [
    {
     "data": {
      "text/html": [
       "<div>\n",
       "<style scoped>\n",
       "    .dataframe tbody tr th:only-of-type {\n",
       "        vertical-align: middle;\n",
       "    }\n",
       "\n",
       "    .dataframe tbody tr th {\n",
       "        vertical-align: top;\n",
       "    }\n",
       "\n",
       "    .dataframe thead th {\n",
       "        text-align: right;\n",
       "    }\n",
       "</style>\n",
       "<table border=\"1\" class=\"dataframe\">\n",
       "  <thead>\n",
       "    <tr style=\"text-align: right;\">\n",
       "      <th></th>\n",
       "      <th>zip code</th>\n",
       "      <th>location</th>\n",
       "      <th>latitude</th>\n",
       "      <th>longitude</th>\n",
       "    </tr>\n",
       "  </thead>\n",
       "  <tbody>\n",
       "    <tr>\n",
       "      <th>0</th>\n",
       "      <td>10454</td>\n",
       "      <td>POINT (-73.91243 40.8047)</td>\n",
       "      <td>40.8047</td>\n",
       "      <td>-73.91243</td>\n",
       "    </tr>\n",
       "    <tr>\n",
       "      <th>1</th>\n",
       "      <td>11239-2801</td>\n",
       "      <td>POINT (-73.86536 40.651863)</td>\n",
       "      <td>40.651863</td>\n",
       "      <td>-73.86536</td>\n",
       "    </tr>\n",
       "    <tr>\n",
       "      <th>2</th>\n",
       "      <td>10452</td>\n",
       "      <td>POINT (-73.916855 40.84506)</td>\n",
       "      <td>40.84506</td>\n",
       "      <td>-73.916855</td>\n",
       "    </tr>\n",
       "    <tr>\n",
       "      <th>3</th>\n",
       "      <td>11101</td>\n",
       "      <td>POINT (-73.93496 40.737785)</td>\n",
       "      <td>40.737785</td>\n",
       "      <td>-73.93496</td>\n",
       "    </tr>\n",
       "    <tr>\n",
       "      <th>4</th>\n",
       "      <td>10029-6408</td>\n",
       "      <td>POINT (-73.93755 40.788795)</td>\n",
       "      <td>40.788795</td>\n",
       "      <td>-73.93755</td>\n",
       "    </tr>\n",
       "    <tr>\n",
       "      <th>...</th>\n",
       "      <td>...</td>\n",
       "      <td>...</td>\n",
       "      <td>...</td>\n",
       "      <td>...</td>\n",
       "    </tr>\n",
       "    <tr>\n",
       "      <th>5809</th>\n",
       "      <td>10314</td>\n",
       "      <td>POINT (-74.14108 40.609802)</td>\n",
       "      <td>40.609802</td>\n",
       "      <td>-74.14108</td>\n",
       "    </tr>\n",
       "    <tr>\n",
       "      <th>5810</th>\n",
       "      <td>11697</td>\n",
       "      <td>POINT (-73.9084 40.590332)</td>\n",
       "      <td>40.590332</td>\n",
       "      <td>-73.9084</td>\n",
       "    </tr>\n",
       "    <tr>\n",
       "      <th>5811</th>\n",
       "      <td>10019</td>\n",
       "      <td>POINT (-73.98566 40.762917)</td>\n",
       "      <td>40.762917</td>\n",
       "      <td>-73.98566</td>\n",
       "    </tr>\n",
       "    <tr>\n",
       "      <th>5812</th>\n",
       "      <td>11207</td>\n",
       "      <td>POINT (-73.89672 40.68064)</td>\n",
       "      <td>40.68064</td>\n",
       "      <td>-73.89672</td>\n",
       "    </tr>\n",
       "    <tr>\n",
       "      <th>5813</th>\n",
       "      <td>11385</td>\n",
       "      <td>POINT (-73.90802 40.713013)</td>\n",
       "      <td>40.713013</td>\n",
       "      <td>-73.90802</td>\n",
       "    </tr>\n",
       "  </tbody>\n",
       "</table>\n",
       "<p>5814 rows × 4 columns</p>\n",
       "</div>"
      ],
      "text/plain": [
       "        zip code                     location   latitude    longitude\n",
       "0          10454    POINT (-73.91243 40.8047)    40.8047    -73.91243\n",
       "1     11239-2801  POINT (-73.86536 40.651863)  40.651863    -73.86536\n",
       "2          10452  POINT (-73.916855 40.84506)   40.84506   -73.916855\n",
       "3          11101  POINT (-73.93496 40.737785)  40.737785    -73.93496\n",
       "4     10029-6408  POINT (-73.93755 40.788795)  40.788795    -73.93755\n",
       "...          ...                          ...        ...          ...\n",
       "5809       10314  POINT (-74.14108 40.609802)  40.609802    -74.14108\n",
       "5810       11697   POINT (-73.9084 40.590332)  40.590332     -73.9084\n",
       "5811       10019  POINT (-73.98566 40.762917)  40.762917    -73.98566\n",
       "5812       11207   POINT (-73.89672 40.68064)   40.68064    -73.89672\n",
       "5813       11385  POINT (-73.90802 40.713013)  40.713013    -73.90802\n",
       "\n",
       "[5814 rows x 4 columns]"
      ]
     },
     "execution_count": 125,
     "metadata": {},
     "output_type": "execute_result"
    }
   ],
   "source": [
    "locations"
   ]
  },
  {
   "cell_type": "code",
   "execution_count": 127,
   "metadata": {},
   "outputs": [],
   "source": [
    "# Saving the dataframe as a csv file so that it can be imported into MySQL\n",
    "\n",
    "locations.to_csv('locations_pythongenerated.csv', index=False)"
   ]
  }
 ],
 "metadata": {
  "kernelspec": {
   "display_name": "Python 3",
   "language": "python",
   "name": "python3"
  }
 },
 "nbformat": 4,
 "nbformat_minor": 4
}
